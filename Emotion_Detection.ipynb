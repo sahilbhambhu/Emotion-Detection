{
 "cells": [
  {
   "cell_type": "markdown",
   "metadata": {},
   "source": [
    "Task on hand: To build a model to predict the emotions in the photos.\n",
    "Will be utilizing Coumputer vision by creating a Convolutional neural network to train the model.\n",
    "\n",
    "Steps:\n",
    "1. Creating Environemnt\n",
    "2. Importing images\n",
    "3. Importing the image name for extration of target variable (Emotions)\n",
    "4. Pre prossesing\n",
    "5. Spliting data into Test Train\n",
    "6. Rescaling\n",
    "7. Building Model\n",
    "8. Prediting target values and checking the accuracy.\n",
    "9. Checking the model accuracy by prediting the emotion of a photo taken from internet.\n",
    "\n"
   ]
  },
  {
   "cell_type": "code",
   "execution_count": 35,
   "metadata": {},
   "outputs": [],
   "source": [
    "#Creating environment\n",
    "import numpy as np\n",
    "import pandas as pd\n",
    "import keras\n",
    "import os\n",
    "from PIL import Image, ImageOps\n",
    "from keras.models import Sequential\n",
    "from keras .layers import Dense,Dropout,Flatten,Activation\n",
    "from keras .layers.convolutional import MaxPooling2D,Conv2D\n",
    "from keras.utils import np_utils\n",
    "from sklearn.model_selection import train_test_split\n",
    "from sklearn.metrics import classification_report\n",
    "import cv2"
   ]
  },
  {
   "cell_type": "code",
   "execution_count": 2,
   "metadata": {},
   "outputs": [],
   "source": [
    "address = \"C:\\\\Users\\\\sahil\\\\Downloads\\\\Expression Data\\\\Expression Data\"\n",
    "image_list =[Image.open(os.path.join(address, image)) for image in os.listdir(address)]"
   ]
  },
  {
   "cell_type": "code",
   "execution_count": 27,
   "metadata": {},
   "outputs": [
    {
     "data": {
      "text/html": [
       "<div>\n",
       "<style scoped>\n",
       "    .dataframe tbody tr th:only-of-type {\n",
       "        vertical-align: middle;\n",
       "    }\n",
       "\n",
       "    .dataframe tbody tr th {\n",
       "        vertical-align: top;\n",
       "    }\n",
       "\n",
       "    .dataframe thead th {\n",
       "        text-align: right;\n",
       "    }\n",
       "</style>\n",
       "<table border=\"1\" class=\"dataframe\">\n",
       "  <thead>\n",
       "    <tr style=\"text-align: right;\">\n",
       "      <th></th>\n",
       "      <th>filename</th>\n",
       "      <th>expression</th>\n",
       "    </tr>\n",
       "  </thead>\n",
       "  <tbody>\n",
       "    <tr>\n",
       "      <th>0</th>\n",
       "      <td>KA.AN1.39.tiff</td>\n",
       "      <td>AN</td>\n",
       "    </tr>\n",
       "    <tr>\n",
       "      <th>1</th>\n",
       "      <td>KA.AN2.40.tiff</td>\n",
       "      <td>AN</td>\n",
       "    </tr>\n",
       "  </tbody>\n",
       "</table>\n",
       "</div>"
      ],
      "text/plain": [
       "         filename expression\n",
       "0  KA.AN1.39.tiff         AN\n",
       "1  KA.AN2.40.tiff         AN"
      ]
     },
     "execution_count": 27,
     "metadata": {},
     "output_type": "execute_result"
    }
   ],
   "source": [
    "filename=os.listdir(address)\n",
    "data=pd.DataFrame(filename,columns=[\"filename\"])\n",
    "data['expression']=data['filename'].str.slice(3,5)\n",
    "data.head(2)"
   ]
  },
  {
   "cell_type": "code",
   "execution_count": 28,
   "metadata": {},
   "outputs": [],
   "source": [
    "a={'HA':1,'SA':2,'SU':3,'AN':4,'DI':5,'FE':6,'NE':0}\n",
    "A={'HA':'Happy','SA': 'Sad', 'SU': 'Surprise','AN':'Angry','DI':'Disgust','FE':'Fear','NE': 'Neutral'}\n",
    "#b={1:'Happy',2: 'Sad', 3: 'Surprise',4:'Angry',5:'Disgust',6:'Fear',7: 'Neutral'}"
   ]
  },
  {
   "cell_type": "code",
   "execution_count": 29,
   "metadata": {},
   "outputs": [],
   "source": [
    "data['expression'].replace(a,inplace=True)\n",
    "Y=np.array(data['expression'])"
   ]
  },
  {
   "cell_type": "code",
   "execution_count": 7,
   "metadata": {},
   "outputs": [],
   "source": [
    "X=[]\n",
    "for image in image_list:\n",
    "    imagelist=np.array(image)\n",
    "    X.append(imagelist)"
   ]
  },
  {
   "cell_type": "code",
   "execution_count": 8,
   "metadata": {},
   "outputs": [
    {
     "data": {
      "text/plain": [
       "(213, 256, 256)"
      ]
     },
     "execution_count": 8,
     "metadata": {},
     "output_type": "execute_result"
    }
   ],
   "source": [
    "X=np.array(X)\n",
    "X.shape"
   ]
  },
  {
   "cell_type": "code",
   "execution_count": 9,
   "metadata": {},
   "outputs": [
    {
     "data": {
      "text/plain": [
       "255"
      ]
     },
     "execution_count": 9,
     "metadata": {},
     "output_type": "execute_result"
    }
   ],
   "source": [
    "x_train,x_test,y_train,y_test=train_test_split(X,Y,test_size=0.2,random_state=5)\n",
    "x_train.max()"
   ]
  },
  {
   "cell_type": "code",
   "execution_count": 10,
   "metadata": {},
   "outputs": [
    {
     "data": {
      "text/plain": [
       "(170, 256, 256)"
      ]
     },
     "execution_count": 10,
     "metadata": {},
     "output_type": "execute_result"
    }
   ],
   "source": [
    "x_train = x_train/255\n",
    "x_test = x_test/255\n",
    "x_train.shape"
   ]
  },
  {
   "cell_type": "code",
   "execution_count": 11,
   "metadata": {},
   "outputs": [],
   "source": [
    "x_train = x_train.reshape(-1, 256, 256, 1)\n",
    "x_test = x_test.reshape(-1, 256, 256, 1)"
   ]
  },
  {
   "cell_type": "code",
   "execution_count": 12,
   "metadata": {},
   "outputs": [
    {
     "data": {
      "text/plain": [
       "(170, 256, 256, 1)"
      ]
     },
     "execution_count": 12,
     "metadata": {},
     "output_type": "execute_result"
    }
   ],
   "source": [
    "from keras.utils import to_categorical\n",
    "x_train.shape"
   ]
  },
  {
   "cell_type": "code",
   "execution_count": 13,
   "metadata": {},
   "outputs": [
    {
     "data": {
      "text/plain": [
       "(170,)"
      ]
     },
     "execution_count": 13,
     "metadata": {},
     "output_type": "execute_result"
    }
   ],
   "source": [
    "y_train.shape"
   ]
  },
  {
   "cell_type": "code",
   "execution_count": 14,
   "metadata": {},
   "outputs": [],
   "source": [
    "model = Sequential()\n",
    "\n",
    "model.add(Conv2D(filters=12, kernel_size=(3,3),input_shape=(256,256,1), activation='relu',))\n",
    "model.add(MaxPooling2D(pool_size=(2, 2)))\n",
    "\n",
    "model.add(Conv2D(filters=24, kernel_size=(3,3),input_shape=(256,256,1), activation='relu',))\n",
    "model.add(MaxPooling2D(pool_size=(2, 2)))\n",
    "\n",
    "model.add(Conv2D(filters=50, kernel_size=(3,3),input_shape=(256,256,1), activation='relu',))\n",
    "model.add(MaxPooling2D(pool_size=(2, 2)))\n",
    "\n",
    "\n",
    "model.add(Flatten())\n",
    "\n",
    "\n",
    "model.add(Dense(128))\n",
    "model.add(Activation('relu'))\n",
    "\n",
    "model.add(Dropout(0.5))\n",
    "\n",
    "\n",
    "\n",
    "model.add(Dense(7, activation='softmax'))\n",
    "\n",
    "model.compile(loss='sparse_categorical_crossentropy',\n",
    "              optimizer='rmsprop',\n",
    "              metrics=['accuracy'])"
   ]
  },
  {
   "cell_type": "code",
   "execution_count": 15,
   "metadata": {},
   "outputs": [
    {
     "name": "stdout",
     "output_type": "stream",
     "text": [
      "Epoch 1/60\n",
      "6/6 [==============================] - 10s 2s/step - loss: 2.3550 - accuracy: 0.1647\n",
      "Epoch 2/60\n",
      "6/6 [==============================] - 9s 1s/step - loss: 1.9333 - accuracy: 0.1824\n",
      "Epoch 3/60\n",
      "6/6 [==============================] - 10s 2s/step - loss: 1.9114 - accuracy: 0.2647\n",
      "Epoch 4/60\n",
      "6/6 [==============================] - 12s 2s/step - loss: 1.8464 - accuracy: 0.3000\n",
      "Epoch 5/60\n",
      "6/6 [==============================] - 10s 2s/step - loss: 1.6991 - accuracy: 0.3471\n",
      "Epoch 6/60\n",
      "6/6 [==============================] - 10s 2s/step - loss: 1.4948 - accuracy: 0.4588\n",
      "Epoch 7/60\n",
      "6/6 [==============================] - 10s 2s/step - loss: 1.3858 - accuracy: 0.5000\n",
      "Epoch 8/60\n",
      "6/6 [==============================] - 9s 2s/step - loss: 1.3625 - accuracy: 0.4647\n",
      "Epoch 9/60\n",
      "6/6 [==============================] - 10s 2s/step - loss: 1.1119 - accuracy: 0.6176\n",
      "Epoch 10/60\n",
      "6/6 [==============================] - 10s 2s/step - loss: 1.0351 - accuracy: 0.6294\n",
      "Epoch 11/60\n",
      "6/6 [==============================] - 9s 1s/step - loss: 0.8211 - accuracy: 0.7059\n",
      "Epoch 12/60\n",
      "6/6 [==============================] - 9s 1s/step - loss: 0.7405 - accuracy: 0.7000\n",
      "Epoch 13/60\n",
      "6/6 [==============================] - 9s 1s/step - loss: 0.7637 - accuracy: 0.7412\n",
      "Epoch 14/60\n",
      "6/6 [==============================] - 8s 1s/step - loss: 0.6207 - accuracy: 0.7824\n",
      "Epoch 15/60\n",
      "6/6 [==============================] - 9s 1s/step - loss: 0.5519 - accuracy: 0.7882\n",
      "Epoch 16/60\n",
      "6/6 [==============================] - 9s 1s/step - loss: 0.4217 - accuracy: 0.8706\n",
      "Epoch 17/60\n",
      "6/6 [==============================] - 8s 1s/step - loss: 0.4169 - accuracy: 0.8588\n",
      "Epoch 18/60\n",
      "6/6 [==============================] - 9s 1s/step - loss: 0.3382 - accuracy: 0.9000\n",
      "Epoch 19/60\n",
      "6/6 [==============================] - 9s 1s/step - loss: 0.3532 - accuracy: 0.9118\n",
      "Epoch 20/60\n",
      "6/6 [==============================] - 8s 1s/step - loss: 0.2640 - accuracy: 0.9294\n",
      "Epoch 21/60\n",
      "6/6 [==============================] - 9s 1s/step - loss: 0.2774 - accuracy: 0.8941\n",
      "Epoch 22/60\n",
      "6/6 [==============================] - 9s 1s/step - loss: 0.1759 - accuracy: 0.9412\n",
      "Epoch 23/60\n",
      "6/6 [==============================] - 9s 1s/step - loss: 0.1296 - accuracy: 0.9647\n",
      "Epoch 24/60\n",
      "6/6 [==============================] - 10s 2s/step - loss: 0.1517 - accuracy: 0.9529\n",
      "Epoch 25/60\n",
      "6/6 [==============================] - 10s 2s/step - loss: 0.1273 - accuracy: 0.9647\n",
      "Epoch 26/60\n",
      "6/6 [==============================] - 9s 1s/step - loss: 0.1344 - accuracy: 0.9588\n",
      "Epoch 27/60\n",
      "6/6 [==============================] - 9s 1s/step - loss: 0.1358 - accuracy: 0.9588\n",
      "Epoch 28/60\n",
      "6/6 [==============================] - 9s 2s/step - loss: 0.1731 - accuracy: 0.9412\n",
      "Epoch 29/60\n",
      "6/6 [==============================] - 9s 1s/step - loss: 0.1785 - accuracy: 0.9471\n",
      "Epoch 30/60\n",
      "6/6 [==============================] - 9s 1s/step - loss: 0.1061 - accuracy: 0.9706\n",
      "Epoch 31/60\n",
      "6/6 [==============================] - 9s 2s/step - loss: 0.1306 - accuracy: 0.9529\n",
      "Epoch 32/60\n",
      "6/6 [==============================] - 9s 2s/step - loss: 0.1217 - accuracy: 0.9706\n",
      "Epoch 33/60\n",
      "6/6 [==============================] - 9s 1s/step - loss: 0.1470 - accuracy: 0.9529\n",
      "Epoch 34/60\n",
      "6/6 [==============================] - 10s 2s/step - loss: 0.0927 - accuracy: 0.9706\n",
      "Epoch 35/60\n",
      "6/6 [==============================] - 12s 2s/step - loss: 0.0786 - accuracy: 0.9706\n",
      "Epoch 36/60\n",
      "6/6 [==============================] - 10s 2s/step - loss: 0.0783 - accuracy: 0.9765\n",
      "Epoch 37/60\n",
      "6/6 [==============================] - 9s 1s/step - loss: 0.0306 - accuracy: 1.0000\n",
      "Epoch 38/60\n",
      "6/6 [==============================] - 9s 2s/step - loss: 0.0705 - accuracy: 0.9824\n",
      "Epoch 39/60\n",
      "6/6 [==============================] - 9s 2s/step - loss: 0.1237 - accuracy: 0.9353\n",
      "Epoch 40/60\n",
      "6/6 [==============================] - 9s 1s/step - loss: 0.0558 - accuracy: 0.9824\n",
      "Epoch 41/60\n",
      "6/6 [==============================] - 10s 2s/step - loss: 0.0449 - accuracy: 0.9882\n",
      "Epoch 42/60\n",
      "6/6 [==============================] - 10s 2s/step - loss: 0.1057 - accuracy: 0.9706\n",
      "Epoch 43/60\n",
      "6/6 [==============================] - 10s 2s/step - loss: 0.0716 - accuracy: 0.9765\n",
      "Epoch 44/60\n",
      "6/6 [==============================] - 10s 2s/step - loss: 0.0396 - accuracy: 0.9941\n",
      "Epoch 45/60\n",
      "6/6 [==============================] - 13s 2s/step - loss: 0.0305 - accuracy: 0.9882\n",
      "Epoch 46/60\n",
      "6/6 [==============================] - 10s 2s/step - loss: 0.0487 - accuracy: 0.9882\n",
      "Epoch 47/60\n",
      "6/6 [==============================] - 10s 2s/step - loss: 0.0815 - accuracy: 0.9647\n",
      "Epoch 48/60\n",
      "6/6 [==============================] - 9s 2s/step - loss: 0.0651 - accuracy: 0.9706\n",
      "Epoch 49/60\n",
      "6/6 [==============================] - 9s 1s/step - loss: 0.0184 - accuracy: 1.0000\n",
      "Epoch 50/60\n",
      "6/6 [==============================] - 11s 2s/step - loss: 0.0658 - accuracy: 0.9765\n",
      "Epoch 51/60\n",
      "6/6 [==============================] - 10s 2s/step - loss: 0.0344 - accuracy: 0.9882\n",
      "Epoch 52/60\n",
      "6/6 [==============================] - 10s 2s/step - loss: 0.0384 - accuracy: 0.9824\n",
      "Epoch 53/60\n",
      "6/6 [==============================] - 10s 2s/step - loss: 0.0199 - accuracy: 0.9941\n",
      "Epoch 54/60\n",
      "6/6 [==============================] - 9s 1s/step - loss: 0.0246 - accuracy: 0.9941\n",
      "Epoch 55/60\n",
      "6/6 [==============================] - 9s 2s/step - loss: 0.0480 - accuracy: 0.9824\n",
      "Epoch 56/60\n",
      "6/6 [==============================] - 10s 2s/step - loss: 0.0510 - accuracy: 0.9882\n",
      "Epoch 57/60\n",
      "6/6 [==============================] - 12s 2s/step - loss: 0.0096 - accuracy: 1.0000\n",
      "Epoch 58/60\n",
      "6/6 [==============================] - 10s 2s/step - loss: 0.0139 - accuracy: 1.0000\n",
      "Epoch 59/60\n",
      "6/6 [==============================] - 10s 2s/step - loss: 0.0553 - accuracy: 0.9824\n",
      "Epoch 60/60\n",
      "6/6 [==============================] - 10s 2s/step - loss: 0.0481 - accuracy: 0.9824\n"
     ]
    },
    {
     "data": {
      "text/plain": [
       "<tensorflow.python.keras.callbacks.History at 0x19dc480a108>"
      ]
     },
     "execution_count": 15,
     "metadata": {},
     "output_type": "execute_result"
    }
   ],
   "source": [
    "model.fit(x_train,y_train,epochs=60)"
   ]
  },
  {
   "cell_type": "code",
   "execution_count": 16,
   "metadata": {},
   "outputs": [
    {
     "name": "stdout",
     "output_type": "stream",
     "text": [
      "WARNING:tensorflow:From <ipython-input-16-7df79a4d0b16>:2: Sequential.predict_classes (from tensorflow.python.keras.engine.sequential) is deprecated and will be removed after 2021-01-01.\n",
      "Instructions for updating:\n",
      "Please use instead:* `np.argmax(model.predict(x), axis=-1)`,   if your model does multi-class classification   (e.g. if it uses a `softmax` last-layer activation).* `(model.predict(x) > 0.5).astype(\"int32\")`,   if your model does binary classification   (e.g. if it uses a `sigmoid` last-layer activation).\n"
     ]
    }
   ],
   "source": [
    "#Predicting the emotions from the test data\n",
    "Ypredict=model.predict_classes(x_test)"
   ]
  },
  {
   "cell_type": "code",
   "execution_count": 17,
   "metadata": {},
   "outputs": [
    {
     "name": "stdout",
     "output_type": "stream",
     "text": [
      "F1 score = 0.9297157622739017\n"
     ]
    }
   ],
   "source": [
    "import sklearn.metrics as mt\n",
    "\n",
    "print(\"F1 score =\",mt.f1_score(y_test,Ypredict,average=\"weighted\"))"
   ]
  },
  {
   "cell_type": "code",
   "execution_count": 18,
   "metadata": {},
   "outputs": [
    {
     "name": "stdout",
     "output_type": "stream",
     "text": [
      "Performance Metrics               precision    recall  f1-score   support\n",
      "\n",
      "           0       0.88      1.00      0.93         7\n",
      "           1       1.00      1.00      1.00         8\n",
      "           2       1.00      0.83      0.91         6\n",
      "           3       0.83      1.00      0.91         5\n",
      "           4       1.00      1.00      1.00         6\n",
      "           5       1.00      0.80      0.89         5\n",
      "           6       0.83      0.83      0.83         6\n",
      "\n",
      "    accuracy                           0.93        43\n",
      "   macro avg       0.93      0.92      0.92        43\n",
      "weighted avg       0.94      0.93      0.93        43\n",
      "\n"
     ]
    }
   ],
   "source": [
    "print(\"Performance Metrics\",mt.classification_report(y_test,Ypredict))"
   ]
  },
  {
   "cell_type": "code",
   "execution_count": 19,
   "metadata": {},
   "outputs": [
    {
     "data": {
      "text/html": [
       "<div>\n",
       "<style scoped>\n",
       "    .dataframe tbody tr th:only-of-type {\n",
       "        vertical-align: middle;\n",
       "    }\n",
       "\n",
       "    .dataframe tbody tr th {\n",
       "        vertical-align: top;\n",
       "    }\n",
       "\n",
       "    .dataframe thead th {\n",
       "        text-align: right;\n",
       "    }\n",
       "</style>\n",
       "<table border=\"1\" class=\"dataframe\">\n",
       "  <thead>\n",
       "    <tr style=\"text-align: right;\">\n",
       "      <th></th>\n",
       "      <th>Predicted Emotion</th>\n",
       "      <th>Actual Data</th>\n",
       "      <th>Result</th>\n",
       "    </tr>\n",
       "  </thead>\n",
       "  <tbody>\n",
       "    <tr>\n",
       "      <th>0</th>\n",
       "      <td>Surprise</td>\n",
       "      <td>Surprise</td>\n",
       "      <td>True</td>\n",
       "    </tr>\n",
       "    <tr>\n",
       "      <th>1</th>\n",
       "      <td>Happy</td>\n",
       "      <td>Happy</td>\n",
       "      <td>True</td>\n",
       "    </tr>\n",
       "    <tr>\n",
       "      <th>2</th>\n",
       "      <td>Surprise</td>\n",
       "      <td>Surprise</td>\n",
       "      <td>True</td>\n",
       "    </tr>\n",
       "    <tr>\n",
       "      <th>3</th>\n",
       "      <td>Sad</td>\n",
       "      <td>Sad</td>\n",
       "      <td>True</td>\n",
       "    </tr>\n",
       "    <tr>\n",
       "      <th>4</th>\n",
       "      <td>Disgust</td>\n",
       "      <td>Disgust</td>\n",
       "      <td>True</td>\n",
       "    </tr>\n",
       "    <tr>\n",
       "      <th>5</th>\n",
       "      <td>Happy</td>\n",
       "      <td>Happy</td>\n",
       "      <td>True</td>\n",
       "    </tr>\n",
       "    <tr>\n",
       "      <th>6</th>\n",
       "      <td>Sad</td>\n",
       "      <td>Sad</td>\n",
       "      <td>True</td>\n",
       "    </tr>\n",
       "    <tr>\n",
       "      <th>7</th>\n",
       "      <td>Disgust</td>\n",
       "      <td>Disgust</td>\n",
       "      <td>True</td>\n",
       "    </tr>\n",
       "    <tr>\n",
       "      <th>8</th>\n",
       "      <td>Fear</td>\n",
       "      <td>Fear</td>\n",
       "      <td>True</td>\n",
       "    </tr>\n",
       "    <tr>\n",
       "      <th>9</th>\n",
       "      <td>Happy</td>\n",
       "      <td>Happy</td>\n",
       "      <td>True</td>\n",
       "    </tr>\n",
       "    <tr>\n",
       "      <th>10</th>\n",
       "      <td>Sad</td>\n",
       "      <td>Sad</td>\n",
       "      <td>True</td>\n",
       "    </tr>\n",
       "    <tr>\n",
       "      <th>11</th>\n",
       "      <td>Angry</td>\n",
       "      <td>Angry</td>\n",
       "      <td>True</td>\n",
       "    </tr>\n",
       "    <tr>\n",
       "      <th>12</th>\n",
       "      <td>Fear</td>\n",
       "      <td>Fear</td>\n",
       "      <td>True</td>\n",
       "    </tr>\n",
       "    <tr>\n",
       "      <th>13</th>\n",
       "      <td>Neutral</td>\n",
       "      <td>Neutral</td>\n",
       "      <td>True</td>\n",
       "    </tr>\n",
       "    <tr>\n",
       "      <th>14</th>\n",
       "      <td>Surprise</td>\n",
       "      <td>Surprise</td>\n",
       "      <td>True</td>\n",
       "    </tr>\n",
       "    <tr>\n",
       "      <th>15</th>\n",
       "      <td>Neutral</td>\n",
       "      <td>Neutral</td>\n",
       "      <td>True</td>\n",
       "    </tr>\n",
       "    <tr>\n",
       "      <th>16</th>\n",
       "      <td>Neutral</td>\n",
       "      <td>Neutral</td>\n",
       "      <td>True</td>\n",
       "    </tr>\n",
       "    <tr>\n",
       "      <th>17</th>\n",
       "      <td>Neutral</td>\n",
       "      <td>Fear</td>\n",
       "      <td>False</td>\n",
       "    </tr>\n",
       "    <tr>\n",
       "      <th>18</th>\n",
       "      <td>Happy</td>\n",
       "      <td>Happy</td>\n",
       "      <td>True</td>\n",
       "    </tr>\n",
       "    <tr>\n",
       "      <th>19</th>\n",
       "      <td>Surprise</td>\n",
       "      <td>Surprise</td>\n",
       "      <td>True</td>\n",
       "    </tr>\n",
       "    <tr>\n",
       "      <th>20</th>\n",
       "      <td>Happy</td>\n",
       "      <td>Happy</td>\n",
       "      <td>True</td>\n",
       "    </tr>\n",
       "    <tr>\n",
       "      <th>21</th>\n",
       "      <td>Neutral</td>\n",
       "      <td>Neutral</td>\n",
       "      <td>True</td>\n",
       "    </tr>\n",
       "    <tr>\n",
       "      <th>22</th>\n",
       "      <td>Fear</td>\n",
       "      <td>Fear</td>\n",
       "      <td>True</td>\n",
       "    </tr>\n",
       "    <tr>\n",
       "      <th>23</th>\n",
       "      <td>Happy</td>\n",
       "      <td>Happy</td>\n",
       "      <td>True</td>\n",
       "    </tr>\n",
       "    <tr>\n",
       "      <th>24</th>\n",
       "      <td>Angry</td>\n",
       "      <td>Angry</td>\n",
       "      <td>True</td>\n",
       "    </tr>\n",
       "    <tr>\n",
       "      <th>25</th>\n",
       "      <td>Surprise</td>\n",
       "      <td>Sad</td>\n",
       "      <td>False</td>\n",
       "    </tr>\n",
       "    <tr>\n",
       "      <th>26</th>\n",
       "      <td>Neutral</td>\n",
       "      <td>Neutral</td>\n",
       "      <td>True</td>\n",
       "    </tr>\n",
       "    <tr>\n",
       "      <th>27</th>\n",
       "      <td>Surprise</td>\n",
       "      <td>Surprise</td>\n",
       "      <td>True</td>\n",
       "    </tr>\n",
       "    <tr>\n",
       "      <th>28</th>\n",
       "      <td>Angry</td>\n",
       "      <td>Angry</td>\n",
       "      <td>True</td>\n",
       "    </tr>\n",
       "    <tr>\n",
       "      <th>29</th>\n",
       "      <td>Disgust</td>\n",
       "      <td>Disgust</td>\n",
       "      <td>True</td>\n",
       "    </tr>\n",
       "    <tr>\n",
       "      <th>30</th>\n",
       "      <td>Angry</td>\n",
       "      <td>Angry</td>\n",
       "      <td>True</td>\n",
       "    </tr>\n",
       "    <tr>\n",
       "      <th>31</th>\n",
       "      <td>Fear</td>\n",
       "      <td>Disgust</td>\n",
       "      <td>False</td>\n",
       "    </tr>\n",
       "    <tr>\n",
       "      <th>32</th>\n",
       "      <td>Happy</td>\n",
       "      <td>Happy</td>\n",
       "      <td>True</td>\n",
       "    </tr>\n",
       "    <tr>\n",
       "      <th>33</th>\n",
       "      <td>Angry</td>\n",
       "      <td>Angry</td>\n",
       "      <td>True</td>\n",
       "    </tr>\n",
       "    <tr>\n",
       "      <th>34</th>\n",
       "      <td>Happy</td>\n",
       "      <td>Happy</td>\n",
       "      <td>True</td>\n",
       "    </tr>\n",
       "    <tr>\n",
       "      <th>35</th>\n",
       "      <td>Neutral</td>\n",
       "      <td>Neutral</td>\n",
       "      <td>True</td>\n",
       "    </tr>\n",
       "    <tr>\n",
       "      <th>36</th>\n",
       "      <td>Neutral</td>\n",
       "      <td>Neutral</td>\n",
       "      <td>True</td>\n",
       "    </tr>\n",
       "    <tr>\n",
       "      <th>37</th>\n",
       "      <td>Angry</td>\n",
       "      <td>Angry</td>\n",
       "      <td>True</td>\n",
       "    </tr>\n",
       "    <tr>\n",
       "      <th>38</th>\n",
       "      <td>Disgust</td>\n",
       "      <td>Disgust</td>\n",
       "      <td>True</td>\n",
       "    </tr>\n",
       "    <tr>\n",
       "      <th>39</th>\n",
       "      <td>Fear</td>\n",
       "      <td>Fear</td>\n",
       "      <td>True</td>\n",
       "    </tr>\n",
       "    <tr>\n",
       "      <th>40</th>\n",
       "      <td>Sad</td>\n",
       "      <td>Sad</td>\n",
       "      <td>True</td>\n",
       "    </tr>\n",
       "    <tr>\n",
       "      <th>41</th>\n",
       "      <td>Sad</td>\n",
       "      <td>Sad</td>\n",
       "      <td>True</td>\n",
       "    </tr>\n",
       "    <tr>\n",
       "      <th>42</th>\n",
       "      <td>Fear</td>\n",
       "      <td>Fear</td>\n",
       "      <td>True</td>\n",
       "    </tr>\n",
       "  </tbody>\n",
       "</table>\n",
       "</div>"
      ],
      "text/plain": [
       "   Predicted Emotion Actual Data Result\n",
       "0           Surprise    Surprise   True\n",
       "1              Happy       Happy   True\n",
       "2           Surprise    Surprise   True\n",
       "3                Sad         Sad   True\n",
       "4            Disgust     Disgust   True\n",
       "5              Happy       Happy   True\n",
       "6                Sad         Sad   True\n",
       "7            Disgust     Disgust   True\n",
       "8               Fear        Fear   True\n",
       "9              Happy       Happy   True\n",
       "10               Sad         Sad   True\n",
       "11             Angry       Angry   True\n",
       "12              Fear        Fear   True\n",
       "13           Neutral     Neutral   True\n",
       "14          Surprise    Surprise   True\n",
       "15           Neutral     Neutral   True\n",
       "16           Neutral     Neutral   True\n",
       "17           Neutral        Fear  False\n",
       "18             Happy       Happy   True\n",
       "19          Surprise    Surprise   True\n",
       "20             Happy       Happy   True\n",
       "21           Neutral     Neutral   True\n",
       "22              Fear        Fear   True\n",
       "23             Happy       Happy   True\n",
       "24             Angry       Angry   True\n",
       "25          Surprise         Sad  False\n",
       "26           Neutral     Neutral   True\n",
       "27          Surprise    Surprise   True\n",
       "28             Angry       Angry   True\n",
       "29           Disgust     Disgust   True\n",
       "30             Angry       Angry   True\n",
       "31              Fear     Disgust  False\n",
       "32             Happy       Happy   True\n",
       "33             Angry       Angry   True\n",
       "34             Happy       Happy   True\n",
       "35           Neutral     Neutral   True\n",
       "36           Neutral     Neutral   True\n",
       "37             Angry       Angry   True\n",
       "38           Disgust     Disgust   True\n",
       "39              Fear        Fear   True\n",
       "40               Sad         Sad   True\n",
       "41               Sad         Sad   True\n",
       "42              Fear        Fear   True"
      ]
     },
     "execution_count": 19,
     "metadata": {},
     "output_type": "execute_result"
    }
   ],
   "source": [
    "Compare=pd.DataFrame([Ypredict,y_test],index=[\"Predicted Emotion\",\"Actual Data\"])\n",
    "A={1:'Happy',2:'Sad',3:'Surprise',4:'Angry',5:'Disgust',6:'Fear',0: 'Neutral'}\n",
    "Compare.replace(A,inplace=True)\n",
    "Compare=Compare.transpose()\n",
    "Compare[\"Result\"]=\"\"\n",
    "for j,i in enumerate(Compare[\"Predicted Emotion\"]):\n",
    "    if Compare[\"Predicted Emotion\"].iloc[j]==Compare[\"Actual Data\"].iloc[j]:\n",
    "        Compare[\"Result\"].iloc[j]=\"True\"\n",
    "    else:\n",
    "        Compare[\"Result\"].iloc[j]=\"False\"\n",
    "Compare"
   ]
  },
  {
   "cell_type": "code",
   "execution_count": 32,
   "metadata": {},
   "outputs": [
    {
     "data": {
      "text/plain": [
       "array([5], dtype=int64)"
      ]
     },
     "execution_count": 32,
     "metadata": {},
     "output_type": "execute_result"
    }
   ],
   "source": [
    "from skimage import color\n",
    "from skimage import io\n",
    "img = color.rgb2gray(io.imread(\"C:\\\\Users\\\\sahil\\\\Downloads\\\\New Folder\\\\image.jpg\"))\n",
    "emotion=cv2.resize(img,(256, 256))\n",
    "emotion=np.array(emotion)\n",
    "emotion = emotion.reshape(-1, 256, 256, 1)\n",
    "sd=model.predict_classes(emotion)\n",
    "sd"
   ]
  },
  {
   "cell_type": "code",
   "execution_count": null,
   "metadata": {},
   "outputs": [],
   "source": []
  },
  {
   "cell_type": "code",
   "execution_count": null,
   "metadata": {},
   "outputs": [],
   "source": [
    "\n"
   ]
  },
  {
   "cell_type": "code",
   "execution_count": null,
   "metadata": {},
   "outputs": [],
   "source": []
  },
  {
   "cell_type": "code",
   "execution_count": null,
   "metadata": {},
   "outputs": [],
   "source": []
  },
  {
   "cell_type": "code",
   "execution_count": null,
   "metadata": {},
   "outputs": [],
   "source": []
  },
  {
   "cell_type": "code",
   "execution_count": null,
   "metadata": {},
   "outputs": [],
   "source": []
  },
  {
   "cell_type": "code",
   "execution_count": null,
   "metadata": {},
   "outputs": [],
   "source": []
  },
  {
   "cell_type": "code",
   "execution_count": null,
   "metadata": {},
   "outputs": [],
   "source": []
  },
  {
   "cell_type": "code",
   "execution_count": null,
   "metadata": {},
   "outputs": [],
   "source": []
  },
  {
   "cell_type": "code",
   "execution_count": null,
   "metadata": {},
   "outputs": [],
   "source": []
  },
  {
   "cell_type": "code",
   "execution_count": null,
   "metadata": {},
   "outputs": [],
   "source": []
  }
 ],
 "metadata": {
  "kernelspec": {
   "display_name": "Python 3",
   "language": "python",
   "name": "python3"
  },
  "language_info": {
   "codemirror_mode": {
    "name": "ipython",
    "version": 3
   },
   "file_extension": ".py",
   "mimetype": "text/x-python",
   "name": "python",
   "nbconvert_exporter": "python",
   "pygments_lexer": "ipython3",
   "version": "3.7.6"
  }
 },
 "nbformat": 4,
 "nbformat_minor": 4
}
